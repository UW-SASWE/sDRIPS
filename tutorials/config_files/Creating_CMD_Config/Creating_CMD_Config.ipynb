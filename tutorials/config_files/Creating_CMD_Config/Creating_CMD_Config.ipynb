{
 "cells": [
  {
   "cell_type": "markdown",
   "id": "8cfa8378",
   "metadata": {},
   "source": [
    "#### Importing the Command config module"
   ]
  },
  {
   "cell_type": "code",
   "execution_count": 1,
   "id": "433c66a7",
   "metadata": {},
   "outputs": [],
   "source": [
    "from sdrips.cmd_config import run_cmd_config"
   ]
  },
  {
   "cell_type": "markdown",
   "id": "dc4f2a62",
   "metadata": {},
   "source": [
    "#### Checking docstrings to see the input parameters"
   ]
  },
  {
   "cell_type": "code",
   "execution_count": 2,
   "id": "ab83b215",
   "metadata": {},
   "outputs": [
    {
     "name": "stdout",
     "output_type": "stream",
     "text": [
      "\u001b[1;31mSignature:\u001b[0m\n",
      "\u001b[0mrun_cmd_config\u001b[0m\u001b[1;33m(\u001b[0m\u001b[1;33m\n",
      "\u001b[0m    \u001b[0mshp_path\u001b[0m\u001b[1;33m:\u001b[0m \u001b[0mUnion\u001b[0m\u001b[1;33m[\u001b[0m\u001b[0mstr\u001b[0m\u001b[1;33m,\u001b[0m \u001b[0mpathlib\u001b[0m\u001b[1;33m.\u001b[0m\u001b[0mPath\u001b[0m\u001b[1;33m]\u001b[0m\u001b[1;33m,\u001b[0m\u001b[1;33m\n",
      "\u001b[0m    \u001b[0mcolumn_name\u001b[0m\u001b[1;33m:\u001b[0m \u001b[0mstr\u001b[0m\u001b[1;33m,\u001b[0m\u001b[1;33m\n",
      "\u001b[0m    \u001b[0mdefault_planting_date\u001b[0m\u001b[1;33m:\u001b[0m \u001b[0mstr\u001b[0m \u001b[1;33m=\u001b[0m \u001b[1;34m'2023-04-01'\u001b[0m\u001b[1;33m,\u001b[0m\u001b[1;33m\n",
      "\u001b[0m    \u001b[0mdefault_crop_type\u001b[0m\u001b[1;33m:\u001b[0m \u001b[0mstr\u001b[0m \u001b[1;33m=\u001b[0m \u001b[1;34m'Rice'\u001b[0m\u001b[1;33m,\u001b[0m\u001b[1;33m\n",
      "\u001b[0m    \u001b[0mdefault_soil_coef\u001b[0m\u001b[1;33m:\u001b[0m \u001b[0mfloat\u001b[0m \u001b[1;33m=\u001b[0m \u001b[1;36m0.5\u001b[0m\u001b[1;33m,\u001b[0m\u001b[1;33m\n",
      "\u001b[0m    \u001b[0mdefault_distribution_unif\u001b[0m\u001b[1;33m:\u001b[0m \u001b[0mfloat\u001b[0m \u001b[1;33m=\u001b[0m \u001b[1;36m1.0\u001b[0m\u001b[1;33m,\u001b[0m\u001b[1;33m\n",
      "\u001b[0m    \u001b[0moutput_path\u001b[0m\u001b[1;33m:\u001b[0m \u001b[0mUnion\u001b[0m\u001b[1;33m[\u001b[0m\u001b[0mstr\u001b[0m\u001b[1;33m,\u001b[0m \u001b[0mpathlib\u001b[0m\u001b[1;33m.\u001b[0m\u001b[0mPath\u001b[0m\u001b[1;33m,\u001b[0m \u001b[0mNoneType\u001b[0m\u001b[1;33m]\u001b[0m \u001b[1;33m=\u001b[0m \u001b[1;32mNone\u001b[0m\u001b[1;33m,\u001b[0m\u001b[1;33m\n",
      "\u001b[0m    \u001b[0mlayer\u001b[0m\u001b[1;33m:\u001b[0m \u001b[0mUnion\u001b[0m\u001b[1;33m[\u001b[0m\u001b[0mstr\u001b[0m\u001b[1;33m,\u001b[0m \u001b[0mint\u001b[0m\u001b[1;33m,\u001b[0m \u001b[0mNoneType\u001b[0m\u001b[1;33m]\u001b[0m \u001b[1;33m=\u001b[0m \u001b[1;32mNone\u001b[0m\u001b[1;33m,\u001b[0m\u001b[1;33m\n",
      "\u001b[0m\u001b[1;33m)\u001b[0m \u001b[1;33m->\u001b[0m \u001b[0mpathlib\u001b[0m\u001b[1;33m.\u001b[0m\u001b[0mPath\u001b[0m\u001b[1;33m\u001b[0m\u001b[1;33m\u001b[0m\u001b[0m\n",
      "\u001b[1;31mDocstring:\u001b[0m\n",
      "Generate a YAML configuration file for command areas found in a vector dataset.\n",
      "\n",
      "This function reads a vector dataset (e.g., Shapefile, GeoJSON, GeoPackage, FileGDB)\n",
      "using GeoPandas, extracts the unique command‑area identifiers from the specified\n",
      "attribute column, and writes a YAML config with one section per ID plus a DEFAULT\n",
      "section containing baseline parameters. Here Shapefile format is highly recommended as it \n",
      "can be integrated with Google Earth Engine easily. \n",
      "\n",
      "Parameters\n",
      "----------\n",
      "shp_path : str or pathlib.Path\n",
      "    Path to the vector dataset. Can be a file (e.g., ``.shp``, ``.geojson``,\n",
      "    ``.gpkg``) or a directory/container supported by your GDAL/Fiona build\n",
      "    (e.g., a File Geodatabase ``.gdb``). Zipped shapefiles (``.zip``) are also\n",
      "    supported by GeoPandas. Here ``.shp`` format is highly recommended as it \n",
      "    can be integrated with Google Earth Engine easily.\n",
      "column_name : str\n",
      "    Name of the attribute column that contains the unique command‑area IDs to\n",
      "    index the YAML sections (e.g., ``\"CA_ID\"``).\n",
      "default_planting_date : str, optional\n",
      "    Default planting date to write into both the DEFAULT section and each\n",
      "    per‑ID section (ISO format ``YYYY-MM-DD``). Default is ``\"2023-04-01\"``.\n",
      "default_crop_type : str, optional\n",
      "    Default crop type (e.g., ``\"Rice\"``, ``\"Wheat\"``, ``\"Corn\"``). Written to\n",
      "    the DEFAULT section and each per‑ID section. Default is ``\"Rice\"``.\n",
      "default_soil_coef : float, optional\n",
      "    Default soil coefficient value (dimensionless) to include in the config.\n",
      "    Default is ``0.5``.\n",
      "default_distribution_unif : float, optional\n",
      "    Default distribution uniformity (DU) value (dimensionless, e.g., 0.7–1.0)\n",
      "    representing irrigation application efficiency. Default is ``1.0``.\n",
      "output_path : str, pathlib.Path, or None, optional\n",
      "    Where to write the YAML file. If ``None``, the file is written to\n",
      "    ``config_files/ca_config.yaml``. Parent directories are created if missing.\n",
      "\n",
      "Returns\n",
      "-------\n",
      "pathlib.Path\n",
      "    Path to the written YAML file.\n",
      "\u001b[1;31mFile:\u001b[0m      c:\\users\\skhan7\\onedrive - uw\\desktop\\research\\phd\\chapter2\\github\\sdrips\\src\\sdrips\\cmd_config.py\n",
      "\u001b[1;31mType:\u001b[0m      function"
     ]
    }
   ],
   "source": [
    "run_cmd_config?"
   ]
  },
  {
   "cell_type": "code",
   "execution_count": 3,
   "id": "074344cb",
   "metadata": {},
   "outputs": [],
   "source": [
    "ca_path = run_cmd_config(shp_path = '../../Shapefiles/cmd_area_wgs/Teesta_Command_Areas.shp',column_name = 'CNLNM', default_planting_date = '2025-07-07', default_crop_type='Wheat', output_path='../Data/cmd_config.yaml')"
   ]
  },
  {
   "cell_type": "code",
   "execution_count": 4,
   "id": "bce0754d",
   "metadata": {},
   "outputs": [
    {
     "name": "stdout",
     "output_type": "stream",
     "text": [
      "..\\Data\\cmd_config.yaml\n"
     ]
    }
   ],
   "source": [
    "print(ca_path)"
   ]
  },
  {
   "cell_type": "markdown",
   "id": "1eb0899e",
   "metadata": {},
   "source": [
    "The output (a command area configureation file) is saved at the desired location. A snapshot of the YAML file is shown below."
   ]
  },
  {
   "cell_type": "markdown",
   "id": "2ecd0b62",
   "metadata": {
    "vscode": {
     "languageId": "html"
    }
   },
   "source": [
    "<div style=\"text-align: center\">\n",
    "    <img src=\"../../../images/config_file_img.png\" alt=\"Config YAML\">\n",
    "</div>"
   ]
  }
 ],
 "metadata": {
  "kernelspec": {
   "display_name": "sdrips_env",
   "language": "python",
   "name": "python3"
  },
  "language_info": {
   "codemirror_mode": {
    "name": "ipython",
    "version": 3
   },
   "file_extension": ".py",
   "mimetype": "text/x-python",
   "name": "python",
   "nbconvert_exporter": "python",
   "pygments_lexer": "ipython3",
   "version": "3.11.5"
  }
 },
 "nbformat": 4,
 "nbformat_minor": 5
}
